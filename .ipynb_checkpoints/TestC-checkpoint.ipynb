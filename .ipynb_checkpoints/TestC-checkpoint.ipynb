{
 "cells": [
  {
   "cell_type": "markdown",
   "id": "db84f571",
   "metadata": {},
   "source": [
    "Thebe"
   ]
  },
  {
   "cell_type": "code",
   "execution_count": null,
   "id": "e1e3aaba",
   "metadata": {},
   "outputs": [],
   "source": [
    "#haha"
   ]
  }
 ],
 "metadata": {
  "kernelspec": {
   "display_name": "Python 3 (ipykernel)",
   "language": "python",
   "name": "python3"
  },
  "language_info": {
   "codemirror_mode": {
    "name": "ipython",
    "version": 3
   },
   "file_extension": ".py",
   "mimetype": "text/x-python",
   "name": "python",
   "nbconvert_exporter": "python",
   "pygments_lexer": "ipython3",
   "version": "3.10.9"
  }
 },
 "nbformat": 4,
 "nbformat_minor": 5
}
