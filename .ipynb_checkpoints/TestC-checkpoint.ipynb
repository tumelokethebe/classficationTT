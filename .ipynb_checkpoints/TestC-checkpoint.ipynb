{
 "cells": [
  {
   "cell_type": "markdown",
   "id": "db84f571",
   "metadata": {},
   "source": [
    "Thebe"
   ]
  },
  {
   "cell_type": "code",
   "execution_count": 7,
   "id": "e1e3aaba",
   "metadata": {},
   "outputs": [],
   "source": [
    "#haha\n",
    "def add(e,t):\n",
    "    return e+t"
   ]
  },
  {
   "cell_type": "code",
   "execution_count": 8,
   "id": "b68937f6",
   "metadata": {},
   "outputs": [
    {
     "data": {
      "text/plain": [
       "8"
      ]
     },
     "execution_count": 8,
     "metadata": {},
     "output_type": "execute_result"
    }
   ],
   "source": [
    "add(4,4)"
   ]
  },
  {
   "cell_type": "code",
   "execution_count": null,
   "id": "b35eae29",
   "metadata": {},
   "outputs": [],
   "source": []
  }
 ],
 "metadata": {
  "kernelspec": {
   "display_name": "Python 3 (ipykernel)",
   "language": "python",
   "name": "python3"
  },
  "language_info": {
   "codemirror_mode": {
    "name": "ipython",
    "version": 3
   },
   "file_extension": ".py",
   "mimetype": "text/x-python",
   "name": "python",
   "nbconvert_exporter": "python",
   "pygments_lexer": "ipython3",
   "version": "3.10.9"
  }
 },
 "nbformat": 4,
 "nbformat_minor": 5
}
